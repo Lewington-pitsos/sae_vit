{
 "cells": [
  {
   "cell_type": "code",
   "execution_count": 21,
   "metadata": {},
   "outputs": [],
   "source": [
    "import h5py\n",
    "from torch.utils.data import Dataset\n",
    "import os\n",
    "import torch\n",
    "\n",
    "from vit_sae_analysis.dashboard_fns import get_feature_data\n",
    "from sae_training.utils import ViTSparseAutoencoderSessionloader\n",
    "from loader import ThumbnailDataset\n",
    "from tqdm import tqdm\n",
    "\n",
    "import matplotlib.pyplot as plt"
   ]
  },
  {
   "cell_type": "code",
   "execution_count": 43,
   "metadata": {},
   "outputs": [],
   "source": [
    "max_img_indices = torch.load('/home/ubuntu/sae_vit/dashboard/max_activating_image_indices.pt')\n",
    "mean_acts = torch.load('/home/ubuntu/sae_vit/dashboard/sae_mean_acts.pt')\n"
   ]
  },
  {
   "cell_type": "code",
   "execution_count": 10,
   "metadata": {},
   "outputs": [
    {
     "data": {
      "text/plain": [
       "torch.Size([65536, 20])"
      ]
     },
     "execution_count": 10,
     "metadata": {},
     "output_type": "execute_result"
    }
   ],
   "source": [
    "max_img_indices.shape"
   ]
  },
  {
   "cell_type": "code",
   "execution_count": 47,
   "metadata": {},
   "outputs": [],
   "source": [
    "parent_dir = 'cruft/cruft/video/'\n",
    "files = [parent_dir + f for f in os.listdir(parent_dir) if f.endswith('.h5')]\n",
    "\n",
    "dataset = ThumbnailDataset(files, keys=['likeCount', 'viewCount', 'commentCount'], device='cpu')\n",
    "max_file = 524_288\n",
    "# max_file = 100_000"
   ]
  },
  {
   "cell_type": "code",
   "execution_count": 48,
   "metadata": {},
   "outputs": [
    {
     "name": "stderr",
     "output_type": "stream",
     "text": [
      " 99%|█████████▉| 104/105 [40:11<00:23, 23.18s/it]\n"
     ]
    },
    {
     "ename": "RuntimeError",
     "evalue": "The expanded size of the tensor (4288) must match the existing size (5000) at non-singleton dimension 0.  Target sizes: [4288].  Tensor sizes: [5000]",
     "output_type": "error",
     "traceback": [
      "\u001b[0;31m---------------------------------------------------------------------------\u001b[0m",
      "\u001b[0;31mRuntimeError\u001b[0m                              Traceback (most recent call last)",
      "Cell \u001b[0;32mIn[48], line 8\u001b[0m\n\u001b[1;32m      5\u001b[0m \u001b[38;5;28;01mfor\u001b[39;00m i \u001b[38;5;129;01min\u001b[39;00m tqdm(\u001b[38;5;28mrange\u001b[39m(\u001b[38;5;241m0\u001b[39m, max_file, bs)):\n\u001b[1;32m      6\u001b[0m     data \u001b[38;5;241m=\u001b[39m dataset[i:i\u001b[38;5;241m+\u001b[39mbs]\n\u001b[0;32m----> 8\u001b[0m     \u001b[43mlike_counts\u001b[49m\u001b[43m[\u001b[49m\u001b[43mi\u001b[49m\u001b[43m:\u001b[49m\u001b[43mi\u001b[49m\u001b[38;5;241;43m+\u001b[39;49m\u001b[43mbs\u001b[49m\u001b[43m]\u001b[49m \u001b[38;5;241m=\u001b[39m data[\u001b[38;5;124m'\u001b[39m\u001b[38;5;124mlikeCount\u001b[39m\u001b[38;5;124m'\u001b[39m]\n\u001b[1;32m      9\u001b[0m     view_counts[i:i\u001b[38;5;241m+\u001b[39mbs] \u001b[38;5;241m=\u001b[39m data[\u001b[38;5;124m'\u001b[39m\u001b[38;5;124mviewCount\u001b[39m\u001b[38;5;124m'\u001b[39m]\n\u001b[1;32m     10\u001b[0m     comment_counts[i:i\u001b[38;5;241m+\u001b[39mbs] \u001b[38;5;241m=\u001b[39m data[\u001b[38;5;124m'\u001b[39m\u001b[38;5;124mcommentCount\u001b[39m\u001b[38;5;124m'\u001b[39m]\n",
      "\u001b[0;31mRuntimeError\u001b[0m: The expanded size of the tensor (4288) must match the existing size (5000) at non-singleton dimension 0.  Target sizes: [4288].  Tensor sizes: [5000]"
     ]
    }
   ],
   "source": [
    "bs = 5000\n",
    "like_counts = torch.empty(max_file, dtype=torch.float32, device='cpu')\n",
    "view_counts = torch.empty(max_file, dtype=torch.float32, device='cpu')\n",
    "comment_counts = torch.empty(max_file, dtype=torch.float32, device='cpu')\n",
    "for i in tqdm(range(0, max_file, bs)):\n",
    "    data = dataset[i:i+bs]\n",
    "\n",
    "    like_counts[i:i+bs] = data['likeCount']\n",
    "    view_counts[i:i+bs] = data['viewCount']\n",
    "    comment_counts[i:i+bs] = data['commentCount']\n",
    "\n",
    "    "
   ]
  },
  {
   "cell_type": "code",
   "execution_count": 59,
   "metadata": {},
   "outputs": [],
   "source": [
    "data = dataset[i:max_file]\n",
    "\n",
    "like_counts[i:max_file] = data['likeCount']\n",
    "view_counts[i:max_file] = data['viewCount']\n",
    "comment_counts[i:max_file] = data['commentCount']\n"
   ]
  },
  {
   "cell_type": "code",
   "execution_count": 66,
   "metadata": {},
   "outputs": [],
   "source": [
    "view_counts = view_counts.to('cuda')\n",
    "like_counts = like_counts.to('cuda')\n",
    "comment_counts = comment_counts.to('cuda')"
   ]
  },
  {
   "cell_type": "code",
   "execution_count": 70,
   "metadata": {},
   "outputs": [],
   "source": [
    "max_img_indices = max_img_indices.to(torch.int64)"
   ]
  },
  {
   "cell_type": "code",
   "execution_count": 71,
   "metadata": {},
   "outputs": [],
   "source": [
    "max_img_likes = like_counts[max_img_indices]\n",
    "max_img_img_views = view_counts[max_img_indices]\n",
    "max_img_comment_counts = comment_counts[max_img_indices]\n",
    "\n",
    "miv_mean = max_img_likes.mean(dim=1)"
   ]
  },
  {
   "cell_type": "code",
   "execution_count": 73,
   "metadata": {},
   "outputs": [
    {
     "data": {
      "text/plain": [
       "(array([5.6662e+04, 4.1990e+03, 1.8890e+03, 1.0620e+03, 6.0900e+02,\n",
       "        3.6700e+02, 1.6000e+02, 9.5000e+01, 8.5000e+01, 3.9000e+01,\n",
       "        3.2000e+01, 2.6000e+01, 2.2000e+01, 2.5000e+01, 1.1000e+01,\n",
       "        1.2000e+01, 8.0000e+00, 5.0000e+00, 1.2000e+01, 5.8000e+01,\n",
       "        7.0000e+00, 5.0000e+00, 8.0000e+00, 3.1000e+01, 1.1000e+01,\n",
       "        5.0000e+00, 1.0000e+00, 1.0000e+00, 1.8000e+01, 1.0000e+01,\n",
       "        7.0000e+00, 1.1000e+01, 6.0000e+00, 1.0000e+01, 1.0000e+00,\n",
       "        0.0000e+00, 2.0000e+00, 1.0000e+00, 0.0000e+00, 1.0000e+00,\n",
       "        5.0000e+00, 2.0000e+00, 1.0000e+00, 1.0000e+00, 3.0000e+00,\n",
       "        0.0000e+00, 2.0000e+00, 0.0000e+00, 2.0000e+00, 0.0000e+00,\n",
       "        0.0000e+00, 0.0000e+00, 0.0000e+00, 0.0000e+00, 0.0000e+00,\n",
       "        0.0000e+00, 0.0000e+00, 0.0000e+00, 0.0000e+00, 0.0000e+00,\n",
       "        0.0000e+00, 0.0000e+00, 1.0000e+00, 0.0000e+00, 0.0000e+00,\n",
       "        1.0000e+00, 0.0000e+00, 0.0000e+00, 0.0000e+00, 0.0000e+00,\n",
       "        0.0000e+00, 0.0000e+00, 0.0000e+00, 1.0000e+00, 1.0000e+00,\n",
       "        0.0000e+00, 0.0000e+00, 0.0000e+00, 0.0000e+00, 0.0000e+00,\n",
       "        1.0000e+00, 0.0000e+00, 0.0000e+00, 0.0000e+00, 0.0000e+00,\n",
       "        0.0000e+00, 0.0000e+00, 0.0000e+00, 0.0000e+00, 0.0000e+00,\n",
       "        0.0000e+00, 0.0000e+00, 0.0000e+00, 0.0000e+00, 0.0000e+00,\n",
       "        0.0000e+00, 0.0000e+00, 0.0000e+00, 0.0000e+00, 1.0000e+00]),\n",
       " array([5.59999990e+00, 8.40241028e+02, 1.67488208e+03, 2.50952319e+03,\n",
       "        3.34416406e+03, 4.17880518e+03, 5.01344629e+03, 5.84808740e+03,\n",
       "        6.68272803e+03, 7.51736914e+03, 8.35201074e+03, 9.18665137e+03,\n",
       "        1.00212920e+04, 1.08559336e+04, 1.16905742e+04, 1.25252158e+04,\n",
       "        1.33598564e+04, 1.41944971e+04, 1.50291387e+04, 1.58637793e+04,\n",
       "        1.66984199e+04, 1.75330625e+04, 1.83677031e+04, 1.92023438e+04,\n",
       "        2.00369844e+04, 2.08716250e+04, 2.17062676e+04, 2.25409082e+04,\n",
       "        2.33755488e+04, 2.42101895e+04, 2.50448301e+04, 2.58794727e+04,\n",
       "        2.67141133e+04, 2.75487539e+04, 2.83833945e+04, 2.92180352e+04,\n",
       "        3.00526777e+04, 3.08873184e+04, 3.17219590e+04, 3.25565996e+04,\n",
       "        3.33912422e+04, 3.42258828e+04, 3.50605234e+04, 3.58951641e+04,\n",
       "        3.67298047e+04, 3.75644453e+04, 3.83990859e+04, 3.92337266e+04,\n",
       "        4.00683711e+04, 4.09030117e+04, 4.17376523e+04, 4.25722930e+04,\n",
       "        4.34069336e+04, 4.42415742e+04, 4.50762148e+04, 4.59108555e+04,\n",
       "        4.67454961e+04, 4.75801406e+04, 4.84147812e+04, 4.92494219e+04,\n",
       "        5.00840625e+04, 5.09187031e+04, 5.17533438e+04, 5.25879844e+04,\n",
       "        5.34226250e+04, 5.42572656e+04, 5.50919062e+04, 5.59265508e+04,\n",
       "        5.67611914e+04, 5.75958320e+04, 5.84304727e+04, 5.92651133e+04,\n",
       "        6.00997539e+04, 6.09343945e+04, 6.17690352e+04, 6.26036758e+04,\n",
       "        6.34383203e+04, 6.42729609e+04, 6.51076016e+04, 6.59422422e+04,\n",
       "        6.67768828e+04, 6.76115234e+04, 6.84461641e+04, 6.92808047e+04,\n",
       "        7.01154453e+04, 7.09500859e+04, 7.17847266e+04, 7.26193672e+04,\n",
       "        7.34540078e+04, 7.42886484e+04, 7.51232891e+04, 7.59579375e+04,\n",
       "        7.67925781e+04, 7.76272188e+04, 7.84618594e+04, 7.92965000e+04,\n",
       "        8.01311406e+04, 8.09657812e+04, 8.18004219e+04, 8.26350625e+04,\n",
       "        8.34697031e+04]),\n",
       " <BarContainer object of 100 artists>)"
      ]
     },
     "execution_count": 73,
     "metadata": {},
     "output_type": "execute_result"
    },
    {
     "data": {
      "image/png": "[encoded data removed]",
      "text/plain": [
       "<Figure size 640x480 with 1 Axes>"
      ]
     },
     "metadata": {},
     "output_type": "display_data"
    }
   ],
   "source": [
    "plt.hist(miv_mean.cpu().numpy(), bins=100)"
   ]
  },
  {
   "cell_type": "code",
   "execution_count": 79,
   "metadata": {},
   "outputs": [],
   "source": [
    "values, indices = torch.topk(miv_mean[:1000], 10)"
   ]
  },
  {
   "cell_type": "code",
   "execution_count": 82,
   "metadata": {},
   "outputs": [
    {
     "data": {
      "text/plain": [
       "tensor([24045.8008, 19493.9512, 16136.6504, 15969.3506, 15920.5000, 15889.3506,\n",
       "        14544.2998, 10813.7500,  8263.3506,  6846.1001], device='cuda:0')"
      ]
     },
     "execution_count": 82,
     "metadata": {},
     "output_type": "execute_result"
    }
   ],
   "source": [
    "values"
   ]
  },
  {
   "cell_type": "code",
   "execution_count": 81,
   "metadata": {},
   "outputs": [
    {
     "data": {
      "text/plain": [
       "tensor([809, 700, 719, 837, 655, 178, 188, 571, 398, 238], device='cuda:0')"
      ]
     },
     "execution_count": 81,
     "metadata": {},
     "output_type": "execute_result"
    }
   ],
   "source": [
    "indices"
   ]
  },
  {
   "cell_type": "code",
   "execution_count": 1,
   "metadata": {},
   "outputs": [
    {
     "name": "stderr",
     "output_type": "stream",
     "text": [
      "/opt/conda/lib/python3.10/site-packages/transformers/utils/generic.py:441: UserWarning: torch.utils._pytree._register_pytree_node is deprecated. Please use torch.utils._pytree.register_pytree_node instead.\n",
      "  _torch_pytree._register_pytree_node(\n",
      "/opt/conda/lib/python3.10/site-packages/transformers/utils/generic.py:309: UserWarning: torch.utils._pytree._register_pytree_node is deprecated. Please use torch.utils._pytree.register_pytree_node instead.\n",
      "  _torch_pytree._register_pytree_node(\n",
      "/opt/conda/lib/python3.10/site-packages/transformers/utils/generic.py:309: UserWarning: torch.utils._pytree._register_pytree_node is deprecated. Please use torch.utils._pytree.register_pytree_node instead.\n",
      "  _torch_pytree._register_pytree_node(\n",
      "/opt/conda/lib/python3.10/site-packages/transformers/utils/generic.py:309: UserWarning: torch.utils._pytree._register_pytree_node is deprecated. Please use torch.utils._pytree.register_pytree_node instead.\n",
      "  _torch_pytree._register_pytree_node(\n"
     ]
    }
   ],
   "source": [
    "import h5py\n",
    "from torch.utils.data import Dataset\n",
    "import os\n",
    "import torch\n",
    "\n",
    "from vit_sae_analysis.dashboard_fns import get_feature_data\n",
    "from sae_training.utils import ViTSparseAutoencoderSessionloader"
   ]
  },
  {
   "cell_type": "code",
   "execution_count": 2,
   "metadata": {},
   "outputs": [],
   "source": [
    "class VideoDataDataset(Dataset):\n",
    "    def __init__(self, file_paths, device, keys=None):\n",
    "        self.file_paths = file_paths  # List of HDF5 file paths\n",
    "        self.index_map = []\n",
    "        self.start_end = {}\n",
    "        for file_idx, file_path in enumerate(self.file_paths):\n",
    "            initial_idx = len(self.index_map)\n",
    "            with h5py.File(file_path, 'r') as hf:\n",
    "                keys = list(hf.keys())\n",
    "                # Assuming all datasets have the same length for simplicity\n",
    "                num_samples = len(hf[keys[0]])\n",
    "                for i in range(num_samples):\n",
    "                    self.index_map.append((file_idx, i))\n",
    "\n",
    "            self.start_end[file_idx] = (initial_idx, len(self.index_map))\n",
    "                \n",
    "        self.device = device\n",
    "        self.keys = keys\n",
    "        \n",
    "    def __len__(self):\n",
    "        return len(self.index_map)\n",
    "\n",
    "    def _get_item(self, idx, keys):\n",
    "        return self._get_file_slice(idx, idx + 1, keys)\n",
    "\n",
    "    def _get_file_slice(self, absolute_start, absolute_end, wanted_keys=None):\n",
    "        file_idx, _ = self.index_map[absolute_start]\n",
    "        file_start, _ = self.start_end[file_idx]\n",
    "\n",
    "\n",
    "        relative_start = absolute_start - file_start\n",
    "        relative_end = absolute_end - file_start\n",
    "        file_path = self.file_paths[file_idx]\n",
    "\n",
    "        with h5py.File(file_path, 'r') as hf:\n",
    "            keys = list(hf.keys())\n",
    "            if wanted_keys is not None:\n",
    "                keys = [key for key in keys if key in wanted_keys]\n",
    "            data = {\n",
    "                'thumbnailStandard': torch.tensor(hf['thumbnailStandard'][relative_start:relative_end], device=self.device),\n",
    "                'likeCount': torch.tensor(hf['likeCount'][relative_start:relative_end], device=self.device) if 'likeCount' in keys else None,\n",
    "                'viewCount': torch.tensor(hf['viewCount'][relative_start:relative_end], device=self.device) if 'viewCount' in keys else None,\n",
    "                'commentCount': torch.tensor(hf['commentCount'][relative_start:relative_end], device=self.device) if 'commentCount' in keys else None,\n",
    "                'title': list(hf['title'][relative_start:relative_end]) if 'title' in keys else None\n",
    "            }\n",
    "        return data\n",
    "\n",
    "    def _get_whole_file(self, file_idx, keys):\n",
    "        start, end = self.start_end[file_idx]\n",
    "        return self._get_file_slice(start, end, keys)\n",
    "\n",
    "    def _return_multi_file_slice(self, start, end, keys):\n",
    "        all_indices = self.index_map[start:end]\n",
    "\n",
    "        whole_files = list()\n",
    "\n",
    "        last_file_idx = None\n",
    "        first_file_idx = None\n",
    "        for file_idx, _ in all_indices:\n",
    "            if file_idx not in whole_files:\n",
    "                whole_files.append(file_idx)\n",
    "            last_file_idx = file_idx\n",
    "            \n",
    "            if first_file_idx is None:\n",
    "                first_file_idx = file_idx\n",
    "\n",
    "        if first_file_idx == last_file_idx:\n",
    "            return self._get_file_slice(start, end, keys)\n",
    "\n",
    "        whole_files = [idx for idx in whole_files if idx != first_file_idx and idx != last_file_idx]\n",
    "\n",
    "        sample_lists = []\n",
    "    \n",
    "        _, end_of_first_file = self.start_end[first_file_idx]\n",
    "        first_file_samples = self._get_file_slice(start, end_of_first_file, keys)\n",
    "        sample_lists.append(first_file_samples)\n",
    "\n",
    "        for file_idx in whole_files:\n",
    "            sample_lists.append(self._get_whole_file(file_idx, keys))\n",
    "\n",
    "        start_of_last_file, _ = self.start_end[last_file_idx]\n",
    "        last_file_samples = self._get_file_slice(start_of_last_file, end, keys)\n",
    "        sample_lists.append(last_file_samples)\n",
    "        \n",
    "        data = None\n",
    "        for samples in sample_lists:\n",
    "            if data is None:\n",
    "                data = samples\n",
    "            else:\n",
    "                for key in data.keys():\n",
    "                    if key == 'title':\n",
    "                        data[key] = data[key] + samples[key]\n",
    "                    else:    \n",
    "                        data[key] = torch.cat((data[key], samples[key]), 0)\n",
    "\n",
    "        return data\n",
    "\n",
    "\n",
    "    def __getitem__(self, idx):\n",
    "        if isinstance(idx, slice):\n",
    "            start = idx.start if idx.start is not None else 0\n",
    "            stop = idx.stop if idx.stop is not None else len(self.index_map)\n",
    "\n",
    "            if idx.step is not None:\n",
    "                raise ValueError(\"Slicing with step is not supported\", idx)\n",
    "\n",
    "            return self._return_multi_file_slice(start, stop, self.keys)\n",
    "\n",
    "        return self._get_item(idx, self.keys)"
   ]
  },
  {
   "cell_type": "code",
   "execution_count": null,
   "metadata": {},
   "outputs": [],
   "source": [
    "parent_dir = 'cruft/cruft/video/'\n",
    "files = [parent_dir + f for f in os.listdir(parent_dir) if f.endswith('.h5')]\n",
    "\n",
    "dataset = VideoDataDataset(files, keys=['thumbnailStandard'], device='cpu')"
   ]
  },
  {
   "cell_type": "code",
   "execution_count": 4,
   "metadata": {},
   "outputs": [],
   "source": [
    "filename = 'checkpoints/4rfb746w/final_sparse_autoencoder_openai/clip-vit-large-patch14_-2_resid_65536.pt'\n",
    "data = torch.load(filename)"
   ]
  },
  {
   "cell_type": "code",
   "execution_count": 5,
   "metadata": {},
   "outputs": [],
   "source": [
    "cfg = data['cfg']"
   ]
  },
  {
   "cell_type": "code",
   "execution_count": 6,
   "metadata": {},
   "outputs": [
    {
     "name": "stderr",
     "output_type": "stream",
     "text": [
      "/opt/conda/lib/python3.10/site-packages/huggingface_hub/file_download.py:1150: FutureWarning: `resume_download` is deprecated and will be removed in version 1.0.0. Downloads always resume when possible. If you want to force a new download, use `force_download=True`.\n",
      "  warnings.warn(\n",
      "`text_config_dict` is provided which will be used to initialize `CLIPTextConfig`. The value `text_config[\"id2label\"]` will be overriden.\n",
      "`text_config_dict` is provided which will be used to initialize `CLIPTextConfig`. The value `text_config[\"bos_token_id\"]` will be overriden.\n",
      "`text_config_dict` is provided which will be used to initialize `CLIPTextConfig`. The value `text_config[\"eos_token_id\"]` will be overriden.\n"
     ]
    },
    {
     "data": {
      "application/vnd.jupyter.widget-view+json": {
       "model_id": "c82385b523ff4bdfa9aa847de6d41cf9",
       "version_major": 2,
       "version_minor": 0
      },
      "text/plain": [
       "Resolving data files:   0%|          | 0/52 [00:00<?, ?it/s]"
      ]
     },
     "metadata": {},
     "output_type": "display_data"
    },
    {
     "data": {
      "application/vnd.jupyter.widget-view+json": {
       "model_id": "520f334b8b1048e79cc8abf795fd0f0f",
       "version_major": 2,
       "version_minor": 0
      },
      "text/plain": [
       "Resolving data files:   0%|          | 0/52 [00:00<?, ?it/s]"
      ]
     },
     "metadata": {},
     "output_type": "display_data"
    },
    {
     "data": {
      "application/vnd.jupyter.widget-view+json": {
       "model_id": "9d6a4e620e7d49c3907c66f7a8c08662",
       "version_major": 2,
       "version_minor": 0
      },
      "text/plain": [
       "Loading dataset shards:   0%|          | 0/39 [00:00<?, ?it/s]"
      ]
     },
     "metadata": {},
     "output_type": "display_data"
    },
    {
     "name": "stdout",
     "output_type": "stream",
     "text": [
      "Starting to create the data loader!!!\n"
     ]
    },
    {
     "name": "stderr",
     "output_type": "stream",
     "text": [
      "Filling activation store with images: 100%|██████████| 15360/15360 [00:13<00:00, 1176.75it/s]\n",
      "Getting batches for SAE: 100%|██████████| 15/15 [02:06<00:00,  8.42s/it]\n"
     ]
    },
    {
     "name": "stdout",
     "output_type": "stream",
     "text": [
      "Data loader created!!!\n"
     ]
    }
   ],
   "source": [
    "model, sparse_autoencoder, activations_loader = ViTSparseAutoencoderSessionloader.load_session_from_pretrained(filename)"
   ]
  },
  {
   "cell_type": "code",
   "execution_count": 7,
   "metadata": {},
   "outputs": [
    {
     "data": {
      "text/plain": [
       "<sae_training.hooked_vit.HookedVisionTransformer at 0x7f4474275150>"
      ]
     },
     "execution_count": 7,
     "metadata": {},
     "output_type": "execute_result"
    }
   ],
   "source": [
    "model"
   ]
  },
  {
   "cell_type": "code",
   "execution_count": 8,
   "metadata": {},
   "outputs": [],
   "source": [
    "image_batch = dataset[0:5]['thumbnailStandard']"
   ]
  },
  {
   "cell_type": "code",
   "execution_count": 17,
   "metadata": {},
   "outputs": [
    {
     "data": {
      "text/plain": [
       "CLIPProcessor:\n",
       "- image_processor: CLIPImageProcessor {\n",
       "  \"crop_size\": {\n",
       "    \"height\": 224,\n",
       "    \"width\": 224\n",
       "  },\n",
       "  \"do_center_crop\": true,\n",
       "  \"do_convert_rgb\": true,\n",
       "  \"do_normalize\": true,\n",
       "  \"do_rescale\": true,\n",
       "  \"do_resize\": true,\n",
       "  \"feature_extractor_type\": \"CLIPFeatureExtractor\",\n",
       "  \"image_mean\": [\n",
       "    0.48145466,\n",
       "    0.4578275,\n",
       "    0.40821073\n",
       "  ],\n",
       "  \"image_processor_type\": \"CLIPImageProcessor\",\n",
       "  \"image_std\": [\n",
       "    0.26862954,\n",
       "    0.26130258,\n",
       "    0.27577711\n",
       "  ],\n",
       "  \"resample\": 3,\n",
       "  \"rescale_factor\": 0.00392156862745098,\n",
       "  \"size\": {\n",
       "    \"shortest_edge\": 224\n",
       "  },\n",
       "  \"use_square_size\": false\n",
       "}\n",
       "\n",
       "- tokenizer: CLIPTokenizerFast(name_or_path='openai/clip-vit-large-patch14', vocab_size=49408, model_max_length=77, is_fast=True, padding_side='right', truncation_side='right', special_tokens={'bos_token': '<|startoftext|>', 'eos_token': '<|endoftext|>', 'unk_token': '<|endoftext|>', 'pad_token': '<|endoftext|>'}, clean_up_tokenization_spaces=True),  added_tokens_decoder={\n",
       "\t49406: AddedToken(\"<|startoftext|>\", rstrip=False, lstrip=False, single_word=False, normalized=True, special=True),\n",
       "\t49407: AddedToken(\"<|endoftext|>\", rstrip=False, lstrip=False, single_word=False, normalized=True, special=True),\n",
       "}"
      ]
     },
     "execution_count": 17,
     "metadata": {},
     "output_type": "execute_result"
    }
   ],
   "source": [
    "model.processor"
   ]
  },
  {
   "cell_type": "code",
   "execution_count": 10,
   "metadata": {},
   "outputs": [],
   "source": [
    "inputs = model.processor(images=image_batch, text = \"\", return_tensors=\"pt\", padding = True).to(model.model.device)"
   ]
  },
  {
   "cell_type": "code",
   "execution_count": 16,
   "metadata": {},
   "outputs": [
    {
     "data": {
      "text/plain": [
       "torch.Size([5, 3, 224, 224])"
      ]
     },
     "execution_count": 16,
     "metadata": {},
     "output_type": "execute_result"
    }
   ],
   "source": [
    "inputs.pixel_values.shape"
   ]
  },
  {
   "cell_type": "code",
   "execution_count": 15,
   "metadata": {},
   "outputs": [
    {
     "data": {
      "text/plain": [
       "tensor([[49406, 49407]], device='cuda:0')"
      ]
     },
     "execution_count": 15,
     "metadata": {},
     "output_type": "execute_result"
    }
   ],
   "source": [
    "inputs.input_ids"
   ]
  },
  {
   "cell_type": "code",
   "execution_count": 13,
   "metadata": {},
   "outputs": [
    {
     "data": {
      "text/plain": [
       "dict_keys(['input_ids', 'attention_mask', 'pixel_values'])"
      ]
     },
     "execution_count": 13,
     "metadata": {},
     "output_type": "execute_result"
    }
   ],
   "source": [
    "inputs.keys()"
   ]
  },
  {
   "cell_type": "code",
   "execution_count": 5,
   "metadata": {},
   "outputs": [
    {
     "data": {
      "application/vnd.jupyter.widget-view+json": {
       "model_id": "e12340f43f76470ab75d0bd8640fdd66",
       "version_major": 2,
       "version_minor": 0
      },
      "text/plain": [
       "Resolving data files:   0%|          | 0/52 [00:00<?, ?it/s]"
      ]
     },
     "metadata": {},
     "output_type": "display_data"
    },
    {
     "data": {
      "application/vnd.jupyter.widget-view+json": {
       "model_id": "a98f4536f8934f4f89181c7913c912f0",
       "version_major": 2,
       "version_minor": 0
      },
      "text/plain": [
       "Resolving data files:   0%|          | 0/52 [00:00<?, ?it/s]"
      ]
     },
     "metadata": {},
     "output_type": "display_data"
    },
    {
     "data": {
      "application/vnd.jupyter.widget-view+json": {
       "model_id": "74991945ffd74c6ea6b8f696d98745ba",
       "version_major": 2,
       "version_minor": 0
      },
      "text/plain": [
       "Loading dataset shards:   0%|          | 0/39 [00:00<?, ?it/s]"
      ]
     },
     "metadata": {},
     "output_type": "display_data"
    },
    {
     "name": "stderr",
     "output_type": "stream",
     "text": [
      "100%|██████████| 1000/1000 [00:07<00:00, 129.52it/s]\n"
     ]
    }
   ],
   "source": [
    "get_feature_data(\n",
    "    sparse_autoencoder,\n",
    "    model,\n",
    "    load_pretrained=True,\n",
    "    threshold=0.04,\n",
    "    number_of_images=524_288,\n",
    "    number_of_max_activating_images=20,\n",
    "    dataset=dataset,\n",
    ")"
   ]
  },
  {
   "cell_type": "code",
   "execution_count": null,
   "metadata": {},
   "outputs": [],
   "source": []
  }
 ],
 "metadata": {
  "kernelspec": {
   "display_name": "Python 3",
   "language": "python",
   "name": "python3"
  },
  "language_info": {
   "codemirror_mode": {
    "name": "ipython",
    "version": 3
   },
   "file_extension": ".py",
   "mimetype": "text/x-python",
   "name": "python",
   "nbconvert_exporter": "python",
   "pygments_lexer": "ipython3",
   "version": "3.10.14"
  }
 },
 "nbformat": 4,
 "nbformat_minor": 2
}
