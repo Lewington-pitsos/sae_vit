{
 "cells": [
  {
   "cell_type": "code",
   "execution_count": 1,
   "metadata": {},
   "outputs": [],
   "source": [
    "import torch"
   ]
  },
  {
   "cell_type": "code",
   "execution_count": 5,
   "metadata": {},
   "outputs": [],
   "source": [
    "path = 'clip-vit-large-patch14_-2_resid_65536.pt'\n",
    "# path = 'artifacts/sparse_autoencoder_gpt2-small_blocks.10.hook_resid_pre_6144:v2/1200001024_sparse_autoencoder_gpt2-small_blocks.10.hook_resid_pre_6144.pt'"
   ]
  },
  {
   "cell_type": "code",
   "execution_count": 6,
   "metadata": {},
   "outputs": [],
   "source": [
    "cfg = torch.load(path, map_location=torch.device('cpu'))"
   ]
  },
  {
   "cell_type": "code",
   "execution_count": 7,
   "metadata": {},
   "outputs": [
    {
     "data": {
      "text/plain": [
       "{'cfg': ViTSAERunnerConfig(class_token=True, image_width=224, image_height=224, model_name='openai/clip-vit-large-patch14', module_name='resid', block_layer=-2, dataset_path='evanarlian/imagenet_1k_resized_256', use_cached_activations=False, cached_activations_path='activations/evanarlian_imagenet_1k_resized_256/openai_clip-vit-large-patch14/-2_resid', d_in=1024, total_training_tokens=2621440, n_batches_in_store=15, store_size=15360, max_batch_size_for_vit_forward_pass=1024, device=device(type='cuda'), seed=42, dtype=torch.float32, b_dec_init_method='mean', expansion_factor=64, from_pretrained_path=None, l1_coefficient=8e-05, lr=0.0004, lr_scheduler_name='constantwithwarmup', lr_warm_up_steps=500, batch_size=1024, use_ghost_grads=True, feature_sampling_window=64, feature_sampling_method=None, resample_batches=32, feature_reinit_scale=0.2, dead_feature_window=64, dead_feature_estimation_method='no_fire', dead_feature_threshold=1e-06, log_to_wandb=True, wandb_project='mats-hugo', wandb_entity=None, wandb_log_frequency=20, n_checkpoints=20, checkpoint_path='checkpoints-vit/bfm5td1c'),\n",
       " 'state_dict': OrderedDict([('W_enc',\n",
       "               tensor([[-9.3711e-04, -3.1930e-03, -5.2356e-03,  ..., -1.7870e-03,\n",
       "                        -2.3446e-03, -1.5447e-03],\n",
       "                       [-4.1635e-03,  9.0115e-05, -2.3214e-03,  ..., -4.3621e-03,\n",
       "                        -4.9637e-03, -5.5580e-03],\n",
       "                       [ 7.2968e-04,  5.0297e-03,  1.9615e-03,  ...,  6.2889e-03,\n",
       "                        -9.2821e-04,  7.0665e-04],\n",
       "                       ...,\n",
       "                       [ 2.5333e-03, -5.5136e-04,  8.1016e-04,  ..., -2.5053e-03,\n",
       "                        -2.3084e-04, -1.4492e-05],\n",
       "                       [ 5.0687e-03,  3.2459e-03,  1.5455e-04,  ...,  7.2568e-04,\n",
       "                        -7.2141e-05,  8.5453e-04],\n",
       "                       [-3.2371e-04, -5.1772e-04,  5.2246e-03,  ..., -9.2547e-04,\n",
       "                        -9.6129e-04,  2.9006e-03]])),\n",
       "              ('b_enc',\n",
       "               tensor([-0.0103, -0.0105, -0.0104,  ..., -0.0100, -0.0100, -0.0109])),\n",
       "              ('W_dec',\n",
       "               tensor([[ 0.0303,  0.0175,  0.0188,  ...,  0.0459, -0.0052, -0.0491],\n",
       "                       [ 0.0260, -0.0286,  0.0245,  ...,  0.0018,  0.0075, -0.0431],\n",
       "                       [-0.0348, -0.0169, -0.0141,  ..., -0.0370,  0.0197,  0.0410],\n",
       "                       ...,\n",
       "                       [-0.0101, -0.0309,  0.0389,  ..., -0.0516, -0.0029,  0.0039],\n",
       "                       [ 0.0021, -0.0042, -0.0063,  ...,  0.0008,  0.0040, -0.0307],\n",
       "                       [-0.0084,  0.0287, -0.0416,  ...,  0.0048, -0.0334,  0.0369]])),\n",
       "              ('b_dec',\n",
       "               tensor([-0.1508, -0.0503, -0.1288,  ...,  0.1082, -0.3599,  0.0894]))])}"
      ]
     },
     "execution_count": 7,
     "metadata": {},
     "output_type": "execute_result"
    }
   ],
   "source": [
    "cfg"
   ]
  },
  {
   "cell_type": "code",
   "execution_count": null,
   "metadata": {},
   "outputs": [],
   "source": []
  }
 ],
 "metadata": {
  "kernelspec": {
   "display_name": "Python 3",
   "language": "python",
   "name": "python3"
  },
  "language_info": {
   "codemirror_mode": {
    "name": "ipython",
    "version": 3
   },
   "file_extension": ".py",
   "mimetype": "text/x-python",
   "name": "python",
   "nbconvert_exporter": "python",
   "pygments_lexer": "ipython3",
   "version": "3.10.14"
  }
 },
 "nbformat": 4,
 "nbformat_minor": 2
}
